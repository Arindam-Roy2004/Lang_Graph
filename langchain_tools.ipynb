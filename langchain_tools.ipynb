{
 "cells": [
  {
   "cell_type": "code",
   "execution_count": 63,
   "id": "bccf9629",
   "metadata": {},
   "outputs": [],
   "source": [
    "from langchain_community.tools import WikipediaQueryRun"
   ]
  },
  {
   "cell_type": "code",
   "execution_count": 64,
   "id": "d4b814fa",
   "metadata": {},
   "outputs": [],
   "source": [
    "from langchain_community.utilities import WikipediaAPIWrapper"
   ]
  },
  {
   "cell_type": "code",
   "execution_count": 65,
   "id": "afa4a564",
   "metadata": {},
   "outputs": [],
   "source": [
    "api_wrapper = WikipediaAPIWrapper(top_k_results=5,doc_content_chars_max=1000)"
   ]
  },
  {
   "cell_type": "code",
   "execution_count": 66,
   "id": "150d4905",
   "metadata": {},
   "outputs": [],
   "source": [
    "wiki_tool = WikipediaQueryRun(api_wrapper = api_wrapper)"
   ]
  },
  {
   "cell_type": "code",
   "execution_count": 67,
   "id": "c129bceb",
   "metadata": {},
   "outputs": [
    {
     "data": {
      "text/plain": [
       "'A wrapper around Wikipedia. Useful for when you need to answer general questions about people, places, companies, facts, historical events, or other subjects. Input should be a search query.'"
      ]
     },
     "execution_count": 67,
     "metadata": {},
     "output_type": "execute_result"
    }
   ],
   "source": [
    "wiki_tool.description"
   ]
  },
  {
   "cell_type": "code",
   "execution_count": 68,
   "id": "508c2218",
   "metadata": {},
   "outputs": [
    {
     "data": {
      "text/plain": [
       "{'query': {'description': 'query to look up on wikipedia',\n",
       "  'title': 'Query',\n",
       "  'type': 'string'}}"
      ]
     },
     "execution_count": 68,
     "metadata": {},
     "output_type": "execute_result"
    }
   ],
   "source": [
    "wiki_tool.args"
   ]
  },
  {
   "cell_type": "code",
   "execution_count": 69,
   "id": "504f54c1",
   "metadata": {},
   "outputs": [
    {
     "data": {
      "text/plain": [
       "\"Page: LangChain\\nSummary: LangChain is a software framework that helps facilitate the integration of large language models (LLMs) into applications. As a language model integration framework, LangChain's use-cases largely overlap with those of language models in general, including document analysis and summarization, chatbots, and code analysis.\\n\\nPage: Model Context Protocol\\nSummary: The Model Context Protocol (MCP) is an open standard, open-source framework introduced by Anthropic in November 2024 to standardize the way artificial intelligence (AI) systems like large language models (LLMs) integrate and share data with external tools, systems, and data sources. MCP provides a universal interface for reading files, executing functions, and handling contextual prompts. Following its announcement, the protocol was adopted by major AI providers, including OpenAI and Google DeepMind.\\n\\nPage: Intelligent agent\\nSummary: In artificial intelligence, an intelligent agent is an entity that perceiv\""
      ]
     },
     "execution_count": 69,
     "metadata": {},
     "output_type": "execute_result"
    }
   ],
   "source": [
    "wiki_tool.run({\"query\":\"LangChain\"})"
   ]
  },
  {
   "cell_type": "code",
   "execution_count": 70,
   "id": "40298f47",
   "metadata": {},
   "outputs": [],
   "source": [
    "from langchain_community.tools import YouTubeSearchTool"
   ]
  },
  {
   "cell_type": "code",
   "execution_count": 71,
   "id": "7aecb922",
   "metadata": {},
   "outputs": [],
   "source": [
    "tools =  YouTubeSearchTool()"
   ]
  },
  {
   "cell_type": "code",
   "execution_count": 72,
   "id": "5b716dc2",
   "metadata": {},
   "outputs": [
    {
     "data": {
      "text/plain": [
       "'search for youtube videos associated with a person. the input to this tool should be a comma separated list, the first part contains a person name and the second a number that is the maximum number of video results to return aka num_results. the second part is optional'"
      ]
     },
     "execution_count": 72,
     "metadata": {},
     "output_type": "execute_result"
    }
   ],
   "source": [
    "tools.description"
   ]
  },
  {
   "cell_type": "code",
   "execution_count": 73,
   "id": "5226ca5e",
   "metadata": {},
   "outputs": [
    {
     "data": {
      "text/plain": [
       "{'query': {'title': 'Query', 'type': 'string'}}"
      ]
     },
     "execution_count": 73,
     "metadata": {},
     "output_type": "execute_result"
    }
   ],
   "source": [
    "tools.args"
   ]
  },
  {
   "cell_type": "code",
   "execution_count": 74,
   "id": "a363202c",
   "metadata": {},
   "outputs": [
    {
     "data": {
      "text/plain": [
       "\"['https://www.youtube.com/watch?v=HGZ7yK5XT7g&pp=ygUWZGhydXYgcmF0aGVlIG5ldyB2aWRlbw%3D%3D', 'https://www.youtube.com/watch?v=j9R3q6_khHo&pp=ygUWZGhydXYgcmF0aGVlIG5ldyB2aWRlbw%3D%3D']\""
      ]
     },
     "execution_count": 74,
     "metadata": {},
     "output_type": "execute_result"
    }
   ],
   "source": [
    "tools.run(\"dhruv rathee new video\")"
   ]
  },
  {
   "cell_type": "code",
   "execution_count": 75,
   "id": "c243d60c",
   "metadata": {},
   "outputs": [],
   "source": [
    "from langchain_community.tools import TavilySearchResults"
   ]
  },
  {
   "cell_type": "code",
   "execution_count": 76,
   "id": "0e7e90bb",
   "metadata": {},
   "outputs": [],
   "source": [
    "tools = TavilySearchResults(tavily_api_key=\"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\")"
   ]
  },
  {
   "cell_type": "code",
   "execution_count": 77,
   "id": "9205b314",
   "metadata": {},
   "outputs": [
    {
     "data": {
      "text/plain": [
       "[{'title': 'About Dhruv Rathee and why people call him German Shepard - X',\n",
       "  'url': 'https://x.com/KhabriBossLady/status/1899880805251592258',\n",
       "  'content': 'People call Dhruv Rathee \"German Shepherd\" primarily as a mocking or derogatory nickname that has gained traction among his critics.',\n",
       "  'score': 0.8679453},\n",
       " {'title': \"Why Is Twitter Buzzing with Dhruv Rathee as a 'German Shepherd'? The ...\",\n",
       "  'url': 'https://celebrityplus.net/why-is-twitter-buzzing-with-dhruv-rathee-as-a-german-shepherd-the-full-story-explained/',\n",
       "  'content': 'Who is Dhruv Rathee ( Nicknamed as German Shepherd by Twitter)? Dhruv Rathee is an Indian YouTuber and social media influencer with over 5 million subscribers on YouTube. He is known for his vocal commentary on Indian politics, government policies, economy, and society from a largely left-liberal perspective.',\n",
       "  'score': 0.7882741},\n",
       " {'title': \"Dhruv Rathee: YouTuber's education, profession, political party and ...\",\n",
       "  'url': 'https://economictimes.indiatimes.com/news/web-stories/dhruv-rathee-youtubers-education-profession-political-party-and-more/slideshow/110761235.cms',\n",
       "  'content': \"## Who is Dhruv Rathee?\\n\\nNicknamed as the 'German Shepherd', he was born in Haryana. Here is what you need to know about Dhruv Rathee.\\n\\nImage Source: Agencies\\n\\n## Education\\n\\nBefore moving to Germany, 29-year-old Dhruv Rathee received his primar education in Haryana.\\n\\nImage Source: Agencies\\n\\n## Germany degree\\n\\nDhruv earned his bachelor's degree in mechanical engineering from Karlsruhe Institute of Technology, followed by a master's degree in renewable energy from the same college\",\n",
       "  'score': 0.6742441},\n",
       " {'title': 'Dhruv Rathee | Wikitubia - Fandom',\n",
       "  'url': 'https://youtube.fandom.com/wiki/Dhruv_Rathee',\n",
       "  'content': 'Dhruv Rathee Aka German shepherd (Hindi: ध्रुव राठी) is an Indian YouTuber, vlogger and social media activist. He is known for his YouTube videos on social,',\n",
       "  'score': 0.6557114},\n",
       " {'title': 'Singles Society | Memes News | | Popular Youtuber Dhruv Rathee responds ...',\n",
       "  'url': 'https://www.instagram.com/p/C5jPC1Av6Sq/',\n",
       "  'content': '23K likes, 786 comments - singles.society on April 9, 2024: \"Popular Youtuber Dhruv Rathee responds to his trolls over the german shepherd\" in an interview He said:- Netaji Subhash Chandra Bose used to work from Germany and was married to a German woman, do you call him Gernman shepherd?\".',\n",
       "  'score': 0.6469293}]"
      ]
     },
     "execution_count": 77,
     "metadata": {},
     "output_type": "execute_result"
    }
   ],
   "source": [
    "tools.invoke({\"query\":\"Why dhruv rathee is called german shepherd??\"})"
   ]
  },
  {
   "cell_type": "markdown",
   "id": "bfae2828",
   "metadata": {},
   "source": [
    "### Custom tool"
   ]
  },
  {
   "cell_type": "code",
   "execution_count": 78,
   "id": "6add2fe0",
   "metadata": {},
   "outputs": [],
   "source": [
    "from langchain.agents import tool  # Correct import\n",
    "\n",
    "@tool\n",
    "def multiply(a: int, b: int) -> int:\n",
    "    \"\"\"Multiply two integers and return the result.\"\"\"  # <-- Required docstring\n",
    "    return a * b\n"
   ]
  },
  {
   "cell_type": "code",
   "execution_count": 79,
   "id": "c7003fe5",
   "metadata": {},
   "outputs": [
    {
     "data": {
      "text/plain": [
       "400"
      ]
     },
     "execution_count": 79,
     "metadata": {},
     "output_type": "execute_result"
    }
   ],
   "source": [
    "multiply.invoke({\"a\":10,\"b\":40})"
   ]
  },
  {
   "cell_type": "code",
   "execution_count": 80,
   "id": "f80184b4",
   "metadata": {},
   "outputs": [
    {
     "data": {
      "text/plain": [
       "'Multiply two integers and return the result.'"
      ]
     },
     "execution_count": 80,
     "metadata": {},
     "output_type": "execute_result"
    }
   ],
   "source": [
    "multiply.description"
   ]
  },
  {
   "cell_type": "code",
   "execution_count": 81,
   "id": "515b5a85",
   "metadata": {},
   "outputs": [
    {
     "data": {
      "text/plain": [
       "{'a': {'title': 'A', 'type': 'integer'},\n",
       " 'b': {'title': 'B', 'type': 'integer'}}"
      ]
     },
     "execution_count": 81,
     "metadata": {},
     "output_type": "execute_result"
    }
   ],
   "source": [
    "multiply.args"
   ]
  },
  {
   "cell_type": "code",
   "execution_count": 82,
   "id": "30178525",
   "metadata": {},
   "outputs": [],
   "source": [
    "@tool\n",
    "def get_word_len(word:str)->int:\n",
    "    \"\"\"Find Length of the word\"\"\"\n",
    "    return len(word)"
   ]
  },
  {
   "cell_type": "code",
   "execution_count": 83,
   "id": "5c840805",
   "metadata": {},
   "outputs": [
    {
     "data": {
      "text/plain": [
       "7"
      ]
     },
     "execution_count": 83,
     "metadata": {},
     "output_type": "execute_result"
    }
   ],
   "source": [
    "get_word_len.invoke(\"Arindam\")"
   ]
  },
  {
   "cell_type": "code",
   "execution_count": 84,
   "id": "03c2d637",
   "metadata": {},
   "outputs": [
    {
     "data": {
      "text/plain": [
       "{'word': {'title': 'Word', 'type': 'string'}}"
      ]
     },
     "execution_count": 84,
     "metadata": {},
     "output_type": "execute_result"
    }
   ],
   "source": [
    "get_word_len.args"
   ]
  },
  {
   "cell_type": "code",
   "execution_count": 99,
   "id": "f0fc4b7c",
   "metadata": {},
   "outputs": [],
   "source": [
    "from langchain_google_genai import ChatGoogleGenerativeAI"
   ]
  },
  {
   "cell_type": "code",
   "execution_count": 100,
   "id": "57a566f5",
   "metadata": {},
   "outputs": [],
   "source": [
    "def llm(input):\n",
    "    model = ChatGoogleGenerativeAI(\n",
    "        model=\"gemini-1.5-flash\",\n",
    "        max_output_tokens=1000,\n",
    "    )\n",
    "    return model.invoke(input).content"
   ]
  },
  {
   "cell_type": "code",
   "execution_count": 101,
   "id": "ed31407f",
   "metadata": {},
   "outputs": [
    {
     "name": "stdout",
     "output_type": "stream",
     "text": [
      "LangChain is a framework for developing applications powered by language models.  It's designed to make it easier to build applications that use LLMs effectively by providing a structured way to:\n",
      "\n",
      "* **Connect to multiple LLMs:** LangChain isn't tied to a single LLM provider.  You can easily switch between different models (e.g., OpenAI, Hugging Face Hub, etc.) without rewriting significant portions of your code.\n",
      "\n",
      "* **Manage memory and context:**  LLMs have limited context windows.  LangChain provides tools to manage this limitation, allowing you to maintain and access information across multiple interactions with the LLM.  This is crucial for building applications that need to remember previous conversations or process long documents.  Examples include memory mechanisms like ConversationBufferMemory and ConversationSummaryBufferMemory.\n",
      "\n",
      "* **Chain multiple calls to LLMs:** LangChain enables you to sequence multiple LLM calls, creating complex workflows.  This allows you to break down complex tasks into smaller, more manageable steps, each handled by an LLM call.  Examples include sequential chains, map-reduce chains, and more sophisticated combinations.\n",
      "\n",
      "* **Integrate with other data sources:**  LangChain lets you connect LLMs to various external resources, such as databases, APIs, and files. This allows the LLM to access and process real-world information, greatly expanding its capabilities.\n",
      "\n",
      "* **Build agents:**  LangChain facilitates the creation of agents that can autonomously interact with their environment and use LLMs to make decisions. These agents can choose which tools to use (e.g., searching the web, accessing a database) and how to best utilize them to achieve a specified goal.\n",
      "\n",
      "In essence, LangChain provides a higher-level abstraction over LLMs, simplifying the process of building sophisticated applications. It handles many of the complexities involved in working with LLMs, allowing developers to focus on the application logic rather than the low-level details of LLM interaction.  It's particularly useful for building applications that require more than a simple prompt-and-response interaction with an LLM.\n"
     ]
    }
   ],
   "source": [
    "print(llm(\"What is LangChain?\"))"
   ]
  },
  {
   "cell_type": "code",
   "execution_count": 102,
   "id": "9548085c",
   "metadata": {},
   "outputs": [],
   "source": [
    "def token_counter(input):\n",
    "    tokens = input.split()\n",
    "    print(f\"Input text: {input}\\n\\n\")\n",
    "    return f\"Total number of tokens: {len(tokens)}\""
   ]
  },
  {
   "cell_type": "code",
   "execution_count": 103,
   "id": "228b440a",
   "metadata": {},
   "outputs": [],
   "source": [
    "from langgraph.graph import Graph"
   ]
  },
  {
   "cell_type": "code",
   "execution_count": 104,
   "id": "8fff50c7",
   "metadata": {},
   "outputs": [],
   "source": [
    "workflow_new = Graph() "
   ]
  },
  {
   "cell_type": "code",
   "execution_count": 105,
   "id": "9bf19874",
   "metadata": {},
   "outputs": [
    {
     "data": {
      "text/plain": [
       "<langgraph.graph.graph.Graph at 0x124177e7ed0>"
      ]
     },
     "execution_count": 105,
     "metadata": {},
     "output_type": "execute_result"
    }
   ],
   "source": [
    "workflow_new.add_node(\"My_Llm\",llm)"
   ]
  },
  {
   "cell_type": "code",
   "execution_count": 106,
   "id": "3fdb2dc1",
   "metadata": {},
   "outputs": [
    {
     "data": {
      "text/plain": [
       "<langgraph.graph.graph.Graph at 0x124177e7ed0>"
      ]
     },
     "execution_count": 106,
     "metadata": {},
     "output_type": "execute_result"
    }
   ],
   "source": [
    "workflow_new.add_node(\"Token_Counter\",token_counter)"
   ]
  },
  {
   "cell_type": "code",
   "execution_count": 107,
   "id": "db0b6aa3",
   "metadata": {},
   "outputs": [
    {
     "data": {
      "text/plain": [
       "<langgraph.graph.graph.Graph at 0x124177e7ed0>"
      ]
     },
     "execution_count": 107,
     "metadata": {},
     "output_type": "execute_result"
    }
   ],
   "source": [
    "workflow_new.add_edge(\"My_Llm\", \"Token_Counter\")"
   ]
  },
  {
   "cell_type": "code",
   "execution_count": 108,
   "id": "cd6e9d47",
   "metadata": {},
   "outputs": [
    {
     "data": {
      "text/plain": [
       "<langgraph.graph.graph.Graph at 0x124177e7ed0>"
      ]
     },
     "execution_count": 108,
     "metadata": {},
     "output_type": "execute_result"
    }
   ],
   "source": [
    "workflow_new.set_entry_point(\"My_Llm\")"
   ]
  },
  {
   "cell_type": "code",
   "execution_count": 109,
   "id": "11499e7b",
   "metadata": {},
   "outputs": [
    {
     "data": {
      "text/plain": [
       "<langgraph.graph.graph.Graph at 0x124177e7ed0>"
      ]
     },
     "execution_count": 109,
     "metadata": {},
     "output_type": "execute_result"
    }
   ],
   "source": [
    "workflow_new.set_finish_point(\"Token_Counter\")"
   ]
  },
  {
   "cell_type": "code",
   "execution_count": 110,
   "id": "f5717ef5",
   "metadata": {},
   "outputs": [],
   "source": [
    "app = workflow_new.compile()"
   ]
  },
  {
   "cell_type": "code",
   "execution_count": 111,
   "id": "43e4f566",
   "metadata": {},
   "outputs": [
    {
     "data": {
      "image/png": "[encoded data removed]",
      "text/plain": [
       "<langgraph.graph.graph.CompiledGraph object at 0x00000124177E7250>"
      ]
     },
     "execution_count": 111,
     "metadata": {},
     "output_type": "execute_result"
    }
   ],
   "source": [
    "app"
   ]
  },
  {
   "cell_type": "code",
   "execution_count": 112,
   "id": "b015dfa7",
   "metadata": {},
   "outputs": [
    {
     "name": "stdout",
     "output_type": "stream",
     "text": [
      "Input text: The capital of India is **New Delhi**.\n",
      "\n",
      "\n"
     ]
    },
    {
     "data": {
      "text/plain": [
       "'Total number of tokens: 7'"
      ]
     },
     "execution_count": 112,
     "metadata": {},
     "output_type": "execute_result"
    }
   ],
   "source": [
    "app.invoke(\"Whats the capital of India?\")"
   ]
  },
  {
   "cell_type": "code",
   "execution_count": 114,
   "id": "712a1a9d",
   "metadata": {},
   "outputs": [
    {
     "name": "stdout",
     "output_type": "stream",
     "text": [
      "Input text: Public opinion on Dhruv Rathee is highly divided.  \n",
      "\n",
      "Many view him as a credible and unbiased source of information, appreciating his in-depth analysis of political and social issues. They see his videos as helpful in understanding complex topics and forming informed opinions.  His supporters often praise his research and fact-checking, though some acknowledge potential biases.\n",
      "\n",
      "However, a significant portion of the population is highly critical of him.  These critics accuse him of being biased, presenting information selectively, and pushing a particular political agenda.  They often cite instances where they believe his analysis is flawed or misleading, questioning the objectivity of his reporting.  Some even label him as propaganda.  The strong negative reactions often stem from his critical stance on certain political figures and ideologies.\n",
      "\n",
      "In short, there's no single, universally held opinion on Dhruv Rathee.  His work elicits strong reactions, both positive and negative, often depending on the viewer's pre-existing political leanings and beliefs.  The truth likely lies somewhere in the middle, with his content containing both strengths and weaknesses.\n",
      "\n",
      "\n"
     ]
    },
    {
     "data": {
      "text/plain": [
       "'Total number of tokens: 170'"
      ]
     },
     "execution_count": 114,
     "metadata": {},
     "output_type": "execute_result"
    }
   ],
   "source": [
    "app.invoke(\"Whats the feeling of people about Dhruv Rathee? Be Trueful and honest in your answer.\")"
   ]
  },
  {
   "cell_type": "code",
   "execution_count": null,
   "id": "82dc40de",
   "metadata": {},
   "outputs": [],
   "source": []
  }
 ],
 "metadata": {
  "kernelspec": {
   "display_name": "Python 3",
   "language": "python",
   "name": "python3"
  },
  "language_info": {
   "codemirror_mode": {
    "name": "ipython",
    "version": 3
   },
   "file_extension": ".py",
   "mimetype": "text/x-python",
   "name": "python",
   "nbconvert_exporter": "python",
   "pygments_lexer": "ipython3",
   "version": "3.13.0"
  }
 },
 "nbformat": 4,
 "nbformat_minor": 5
}
