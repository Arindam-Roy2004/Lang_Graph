{
 "cells": [
  {
   "cell_type": "code",
   "execution_count": 2,
   "id": "51cfb245",
   "metadata": {},
   "outputs": [],
   "source": [
    "import os"
   ]
  },
  {
   "cell_type": "code",
   "execution_count": 3,
   "id": "b237f1bc",
   "metadata": {},
   "outputs": [],
   "source": [
    "from dotenv import load_dotenv\n",
    "load_dotenv()\n",
    "os.environ[\"GROQ_API_KEY\"] = os.getenv(\"GROQ_API_KEY\")\n",
    "os.environ[\"GOOGLE_API_KEY\"] = os.getenv(\"GOOGLE_API_KEY\")"
   ]
  },
  {
   "cell_type": "code",
   "execution_count": 4,
   "id": "62537241",
   "metadata": {},
   "outputs": [],
   "source": [
    "model=\"deepseek-r1-distill-llama-70b\""
   ]
  },
  {
   "cell_type": "code",
   "execution_count": 5,
   "id": "cc360130",
   "metadata": {},
   "outputs": [],
   "source": [
    "from langchain_groq import ChatGroq\n",
    "from langchain_google_genai import ChatGoogleGenerativeAI"
   ]
  },
  {
   "cell_type": "code",
   "execution_count": 6,
   "id": "d4e54896",
   "metadata": {},
   "outputs": [],
   "source": [
    "# llm = ChatGroq(model=model)\n",
    "llm = ChatGoogleGenerativeAI(model=\"gemini-2.5-pro\")"
   ]
  },
  {
   "cell_type": "code",
   "execution_count": 7,
   "id": "9cb0834d",
   "metadata": {},
   "outputs": [
    {
     "data": {
      "text/plain": [
       "'The current president of the United States is **Joe Biden**.\\n\\nHe is the 46th president and assumed office on January 20, 2021.'"
      ]
     },
     "execution_count": 7,
     "metadata": {},
     "output_type": "execute_result"
    }
   ],
   "source": [
    "llm.invoke(\"Who is the current president of usa?\").content"
   ]
  },
  {
   "cell_type": "code",
   "execution_count": 8,
   "id": "36a85ab9",
   "metadata": {},
   "outputs": [],
   "source": [
    "import operator\n",
    "from langchain_core.output_parsers import StrOutputParser\n",
    "from langchain_core.prompts import ChatPromptTemplate, PromptTemplate\n",
    "from langgraph.graph.message import add_messages\n",
    "from langchain_core.tools import tool\n",
    "from langchain_core.messages import HumanMessage, AIMessage\n",
    "from typing import TypedDict , Annotated , Sequence , List\n",
    "from langchain_core.messages import BaseMessage\n",
    "from langgraph.graph import StateGraph, MessagesState,START,END\n",
    "from pydantic import BaseModel , Field\n",
    "from langgraph.prebuilt import ToolNode"
   ]
  },
  {
   "cell_type": "code",
   "execution_count": 9,
   "id": "1ce64926",
   "metadata": {},
   "outputs": [],
   "source": [
    "def call_model(state:MessagesState):\n",
    "    message=state['messages']\n",
    "    # message = HumanMessage(message)\n",
    "    print(f\"current message: {message} \")\n",
    "    response=llm.invoke(message)\n",
    "    return {\"messages\":[response]}"
   ]
  },
  {
   "cell_type": "code",
   "execution_count": 10,
   "id": "30bbcfe0",
   "metadata": {},
   "outputs": [
    {
     "name": "stdout",
     "output_type": "stream",
     "text": [
      "current message: ['Who are you?'] \n"
     ]
    },
    {
     "data": {
      "text/plain": [
       "{'messages': [AIMessage(content='I am a large language model, trained by Google.', additional_kwargs={}, response_metadata={'prompt_feedback': {'block_reason': 0, 'safety_ratings': []}, 'finish_reason': 'STOP', 'model_name': 'gemini-2.5-pro', 'safety_ratings': []}, id='run--6f465e83-3e45-4008-8fe1-b2eebaa1f70e-0', usage_metadata={'input_tokens': 5, 'output_tokens': 11, 'total_tokens': 956, 'input_token_details': {'cache_read': 0}, 'output_token_details': {'reasoning': 940}})]}"
      ]
     },
     "execution_count": 10,
     "metadata": {},
     "output_type": "execute_result"
    }
   ],
   "source": [
    "call_model({\"messages\":[\"Who are you?\"]})"
   ]
  },
  {
   "cell_type": "code",
   "execution_count": 11,
   "id": "389d6e84",
   "metadata": {},
   "outputs": [],
   "source": [
    "workflow=StateGraph(\n",
    "    MessagesState\n",
    ")"
   ]
  },
  {
   "cell_type": "code",
   "execution_count": 12,
   "id": "0934f08e",
   "metadata": {},
   "outputs": [
    {
     "data": {
      "text/plain": [
       "<langgraph.graph.state.StateGraph at 0x1d6cbb95010>"
      ]
     },
     "execution_count": 12,
     "metadata": {},
     "output_type": "execute_result"
    }
   ],
   "source": [
    "workflow.add_node(\n",
    "    \"call_model\",\n",
    "    call_model,\n",
    ")"
   ]
  },
  {
   "cell_type": "code",
   "execution_count": 13,
   "id": "ff7b7a1d",
   "metadata": {},
   "outputs": [
    {
     "data": {
      "text/plain": [
       "<langgraph.graph.state.StateGraph at 0x1d6cbb95010>"
      ]
     },
     "execution_count": 13,
     "metadata": {},
     "output_type": "execute_result"
    }
   ],
   "source": [
    "workflow.add_edge(\n",
    "    START,\n",
    "    \"call_model\",\n",
    ")"
   ]
  },
  {
   "cell_type": "code",
   "execution_count": 14,
   "id": "ac374e8d",
   "metadata": {},
   "outputs": [
    {
     "data": {
      "text/plain": [
       "<langgraph.graph.state.StateGraph at 0x1d6cbb95010>"
      ]
     },
     "execution_count": 14,
     "metadata": {},
     "output_type": "execute_result"
    }
   ],
   "source": [
    "workflow.add_edge(\n",
    "    \"call_model\",\n",
    "    END\n",
    ")"
   ]
  },
  {
   "cell_type": "code",
   "execution_count": 15,
   "id": "7226d484",
   "metadata": {},
   "outputs": [],
   "source": [
    "app=workflow.compile()"
   ]
  },
  {
   "cell_type": "code",
   "execution_count": 16,
   "id": "d4178473",
   "metadata": {},
   "outputs": [
    {
     "name": "stdout",
     "output_type": "stream",
     "text": [
      "current message: [HumanMessage(content='Who made you?', additional_kwargs={}, response_metadata={}, id='79e44238-5e09-46b1-a3f2-ea76157f4d08')] \n"
     ]
    },
    {
     "data": {
      "text/plain": [
       "'I am a large language model, trained by Google.'"
      ]
     },
     "execution_count": 16,
     "metadata": {},
     "output_type": "execute_result"
    }
   ],
   "source": [
    "app.invoke({\"messages\":[\"Who made you?\"]})['messages'][-1].content"
   ]
  },
  {
   "cell_type": "code",
   "execution_count": 17,
   "id": "a57fbff0",
   "metadata": {},
   "outputs": [],
   "source": [
    "import os\n",
    "from dotenv import load_dotenv\n",
    "from langchain_google_genai import ChatGoogleGenerativeAI\n",
    "from langchain_core.tools import tool\n",
    "from langchain_core.messages import BaseMessage, ToolMessage\n",
    "from langgraph.graph import StateGraph, END, MessagesState\n",
    "from langgraph.prebuilt import ToolNode\n",
    "\n",
    "# --- 1. Setup ---\n",
    "# Make sure your environment variables are loaded\n",
    "# load_dotenv() \n",
    "# os.environ[\"GOOGLE_API_KEY\"] = os.getenv(\"GOOGLE_API_KEY\")\n",
    "\n",
    "# --- 2. Define LLMs and Tools ---\n",
    "\n",
    "# The primary LLM for general conversation\n",
    "llm = ChatGoogleGenerativeAI(model=\"gemini-2.5-pro\")\n",
    "\n",
    "# Define the custom tool\n",
    "@tool\n",
    "def search(query: str):\n",
    "    \"\"\"Searches for the current temperature in Delhi, India.\"\"\"\n",
    "    if \"delhi\" in query.lower():\n",
    "        return \"The temperature in Delhi is 30 degrees Celsius.\"\n",
    "    else:\n",
    "        return \"Sorry, I can only find the temperature for Delhi.\"\n",
    "\n",
    "# The list of tools for the tool-using agent\n",
    "tools = [search]\n",
    "\n",
    "# Bind the tools to a new LLM instance to create a \"tool-enabled\" LLM\n",
    "llm_with_tools = llm.bind_tools(tools)\n",
    "tool_node = ToolNode(tools)\n",
    "\n",
    "\n",
    "# --- 3. Define Agent Nodes ---\n",
    "\n",
    "# This node handles general conversation\n",
    "def general_agent_node(state: MessagesState):\n",
    "    \"\"\"Node for answering general questions without tools.\"\"\"\n",
    "    response = llm.invoke(state['messages'])\n",
    "    return {\"messages\": [response]}\n",
    "\n",
    "# This node decides if a tool should be used and summarizes the result\n",
    "def tool_agent_node(state: MessagesState):\n",
    "    \"\"\"Node that uses the tool-bound LLM.\"\"\"\n",
    "    response = llm_with_tools.invoke(state['messages'])\n",
    "    return {\"messages\": [response]}\n",
    "\n",
    "\n",
    "# --- 4. Define Routers (The Logic for the Graph) ---\n",
    "\n",
    "def route_message(state: MessagesState):\n",
    "    \"\"\"\n",
    "    The main router. It checks the latest message for keywords to decide\n",
    "    if the query should go to the tool agent or the general agent.\n",
    "    \"\"\"\n",
    "    message = state['messages'][-1]\n",
    "    content = message.content.lower()\n",
    "    \n",
    "    # Keywords that trigger the tool path\n",
    "    if \"temperature\" in content or \"weather\" in content or \"delhi\" in content:\n",
    "        return \"tool_path\"\n",
    "    else:\n",
    "        return \"general_path\"\n",
    "\n",
    "def tool_call_router(state: MessagesState):\n",
    "    \"\"\"\n",
    "    After the tool agent runs, this router checks if the LLM\n",
    "    decided to call a tool.\n",
    "    \"\"\"\n",
    "    last_message = state[\"messages\"][-1]\n",
    "    if last_message.tool_calls:\n",
    "        # If the LLM made a tool call, send it to the tool node to be executed\n",
    "        return \"call_tool\"\n",
    "    else:\n",
    "        # If no tool was called, the LLM has already answered, so we can end.\n",
    "        return \"end_conversation\"\n",
    "\n",
    "# --- 5. Build the Graph ---\n",
    "\n",
    "workflow = StateGraph(MessagesState)\n",
    "\n",
    "# Add the nodes to the graph\n",
    "workflow.add_node(\"general_agent\", general_agent_node)\n",
    "workflow.add_node(\"tool_agent\", tool_agent_node)\n",
    "workflow.add_node(\"tool_executor\", tool_node)\n",
    "\n",
    "# The entry point is our main router\n",
    "workflow.set_conditional_entry_point(\n",
    "    route_message,\n",
    "    {\n",
    "        \"general_path\": \"general_agent\",\n",
    "        \"tool_path\": \"tool_agent\",\n",
    "    }\n",
    ")\n",
    "\n",
    "# Define the connections (edges)\n",
    "workflow.add_edge(\"general_agent\", END)\n",
    "\n",
    "workflow.add_conditional_edges(\n",
    "    \"tool_agent\",\n",
    "    tool_call_router,\n",
    "    {\n",
    "        \"call_tool\": \"tool_executor\",\n",
    "        \"end_conversation\": END\n",
    "    }\n",
    ")\n",
    "\n",
    "# After the tool is executed, the result is sent back to the tool_agent\n",
    "# so it can generate a final, natural language response.\n",
    "workflow.add_edge(\"tool_executor\", \"tool_agent\")\n",
    "\n",
    "\n",
    "# Compile the graph into a runnable app\n",
    "app = workflow.compile()"
   ]
  },
  {
   "cell_type": "code",
   "execution_count": 18,
   "id": "64bf6c99",
   "metadata": {},
   "outputs": [
    {
     "data": {
      "image/png": "[encoded data removed]",
      "text/plain": [
       "<langgraph.graph.state.CompiledStateGraph object at 0x000001D6CB70CCD0>"
      ]
     },
     "execution_count": 18,
     "metadata": {},
     "output_type": "execute_result"
    }
   ],
   "source": [
    "app"
   ]
  },
  {
   "cell_type": "code",
   "execution_count": 19,
   "id": "8d00c060",
   "metadata": {},
   "outputs": [
    {
     "data": {
      "text/plain": [
       "'The temperature in Delhi is 30 degrees Celsius.'"
      ]
     },
     "execution_count": 19,
     "metadata": {},
     "output_type": "execute_result"
    }
   ],
   "source": [
    "app.invoke({\"messages\": [\"What is the temperature in Delhi?\"]})['messages'][-1].content"
   ]
  }
 ],
 "metadata": {
  "kernelspec": {
   "display_name": "Python 3",
   "language": "python",
   "name": "python3"
  },
  "language_info": {
   "codemirror_mode": {
    "name": "ipython",
    "version": 3
   },
   "file_extension": ".py",
   "mimetype": "text/x-python",
   "name": "python",
   "nbconvert_exporter": "python",
   "pygments_lexer": "ipython3",
   "version": "3.13.0"
  }
 },
 "nbformat": 4,
 "nbformat_minor": 5
}
