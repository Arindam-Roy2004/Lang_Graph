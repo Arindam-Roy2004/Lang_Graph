{
 "cells": [
  {
   "cell_type": "code",
   "execution_count": 226,
   "id": "5cb566f6",
   "metadata": {},
   "outputs": [
    {
     "data": {
      "text/plain": [
       "ChatGoogleGenerativeAI(model='models/gemini-1.5-flash', google_api_key=SecretStr('**********'), client=<google.ai.generativelanguage_v1beta.services.generative_service.client.GenerativeServiceClient object at 0x00000229D29C8190>, default_metadata=(), model_kwargs={})"
      ]
     },
     "execution_count": 226,
     "metadata": {},
     "output_type": "execute_result"
    }
   ],
   "source": [
    "from langchain_google_genai import ChatGoogleGenerativeAI\n",
    "from langchain_openai import ChatOpenAI\n",
    "ChatGoogleGenerativeAI(\n",
    "    model=\"gemini-1.5-flash\",)\n",
    "# model.invoke(\"Hello\").content  "
   ]
  },
  {
   "cell_type": "markdown",
   "id": "b86661f6",
   "metadata": {},
   "source": [
    "## 1. Importing and Setting Up Language Models\n",
    "This section imports connectors for Google and OpenAI language models using LangChain. These connectors allow you to interact with powerful AI models for generating text or answering questions.\n",
    "- `ChatGoogleGenerativeAI` and `ChatOpenAI` are classes that let you send prompts to Google Gemini and OpenAI models, respectively.\n",
    "- The `model` object (created but not used here) would allow you to send a message and get a response from the AI.\n",
    "- The commented line shows how you could invoke the model to get a response to a simple greeting."
   ]
  },
  {
   "cell_type": "markdown",
   "id": "eeedf5a3",
   "metadata": {},
   "source": [
    "# LangGraph + LangChain Agent: Detailed Walkthrough\n",
    "This notebook demonstrates how to build an intelligent agent using [LangChain](https://python.langchain.com/) and [LangGraph](https://langchain-ai.github.io/langgraph/). The agent can classify user questions and route them to the right answering strategy: either using a local knowledge base (about India) or a general-purpose language model. The notebook covers every step, from loading documents and creating embeddings, to building a vector database, and finally constructing a decision-making workflow using LangGraph.\n",
    "**Key Concepts Covered:**\n",
    "- Using LLMs (Large Language Models) for both classification and answering questions\n",
    "- Creating and searching a vector database (FAISS) for document retrieval\n",
    "- Splitting large documents into manageable chunks for efficient retrieval\n",
    "- Building a multi-step agent workflow with LangGraph, including routing logic\n",
    "- Understanding how state and message history are managed in agent workflows\n",
    "This notebook is heavily commented and includes markdown explanations for every major step."
   ]
  },
  {
   "cell_type": "code",
   "execution_count": 227,
   "id": "32719302",
   "metadata": {},
   "outputs": [],
   "source": [
    "from langchain_openai import OpenAIEmbeddings\n",
    "\n",
    "embeddings = OpenAIEmbeddings(model=\"text-embedding-3-large\")"
   ]
  },
  {
   "cell_type": "markdown",
   "id": "03d0456f",
   "metadata": {},
   "source": [
    "## 2. Embeddings: Turning Text into Numbers\n",
    "Embeddings are a way to represent text as a list of numbers (vectors) that capture the meaning of the text. This is essential for tasks like semantic search, where you want to find similar pieces of text based on meaning, not just keywords.\n",
    "- `OpenAIEmbeddings` is a LangChain class that connects to OpenAI's embedding models.\n",
    "- The `embeddings` object lets you convert any text into a high-dimensional vector. This is the foundation for building a searchable knowledge base."
   ]
  },
  {
   "cell_type": "code",
   "execution_count": 228,
   "id": "e97add2c",
   "metadata": {},
   "outputs": [
    {
     "data": {
      "text/plain": [
       "3072"
      ]
     },
     "execution_count": 228,
     "metadata": {},
     "output_type": "execute_result"
    }
   ],
   "source": [
    "len(embeddings.embed_query(\"Hello world!\"))"
   ]
  },
  {
   "cell_type": "markdown",
   "id": "75d3ecc2",
   "metadata": {},
   "source": [
    "### Why Check the Embedding Length?\n",
    "Every embedding model produces vectors of a fixed size (here, 3072 numbers). This size must match the configuration of the vector database (FAISS) you will create later. Checking the length ensures compatibility and helps avoid errors when storing and searching vectors."
   ]
  },
  {
   "cell_type": "code",
   "execution_count": 229,
   "id": "239e592e",
   "metadata": {},
   "outputs": [],
   "source": [
    "from langchain_community.document_loaders import TextLoader, DirectoryLoader\n",
    "from langchain.text_splitter import RecursiveCharacterTextSplitter\n",
    "import faiss\n",
    "from langchain_community.vectorstores import FAISS\n",
    "from langchain_community.docstore.in_memory import InMemoryDocstore"
   ]
  },
  {
   "cell_type": "markdown",
   "id": "7cf6bb17",
   "metadata": {},
   "source": [
    "## 3. Document Loading and Vector Database Tools\n",
    "This section imports tools for loading text files, splitting them into chunks, and storing them in a searchable vector database.\n",
    "- `DirectoryLoader` and `TextLoader` help you load all `.txt` files from a folder as documents.\n",
    "- `RecursiveCharacterTextSplitter` breaks large documents into smaller, overlapping chunks for efficient retrieval.\n",
    "- `faiss` is a high-performance library for fast similarity search over vectors.\n",
    "- `FAISS` (LangChain wrapper) makes it easy to use FAISS as a vector store for your document chunks.\n",
    "- `InMemoryDocstore` keeps the original text of your documents in memory, so you can retrieve the actual content after searching."
   ]
  },
  {
   "cell_type": "code",
   "execution_count": 230,
   "id": "cf304904",
   "metadata": {},
   "outputs": [],
   "source": [
    "loader = DirectoryLoader(\"Langgraph\", glob=\"*.txt\", loader_cls=TextLoader)"
   ]
  },
  {
   "cell_type": "markdown",
   "id": "8e45fc3f",
   "metadata": {},
   "source": [
    "### Loading Documents from a Directory\n",
    "Here, you use `DirectoryLoader` to automatically find and load all `.txt` files from the specified folder. Each file becomes a document object. This is the first step in building your knowledge base, as it brings your local data into the workflow for further processing."
   ]
  },
  {
   "cell_type": "code",
   "execution_count": 231,
   "id": "0457368e",
   "metadata": {},
   "outputs": [],
   "source": [
    "docs = loader.load()"
   ]
  },
  {
   "cell_type": "markdown",
   "id": "0a2d3869",
   "metadata": {},
   "source": [
    "### What is in the `docs` Variable?\n",
    "After running the loader, the `docs` variable contains a list of document objects, each representing the content of a `.txt` file from your folder. These objects are used as the raw material for further processing, such as splitting and embedding."
   ]
  },
  {
   "cell_type": "code",
   "execution_count": 232,
   "id": "d1d7908c",
   "metadata": {},
   "outputs": [
    {
     "data": {
      "text/plain": [
       "\"India: A Cultural and Economic Powerhouse\\nKey Facts:\\n- Capital: New Delhi\\n- President: Droupadi Murmu (2022-present)\\n- Prime Minister: Narendra Modi (2014-present)\\n- Government Type: Federal Parliamentary Democratic Republic\\n- Independence: August 15, 1947\\n\\nPolitical System:\\n- Parliament consists of Lok Sabha (Lower House) and Rajya Sabha (Upper House)\\n- Multi-party democracy with national and regional parties\\n- Universal adult suffrage with voting age of 18\\n- Independent judiciary with Supreme Court as highest court\\n\\nNotable Prime Ministers:\\n- Jawaharlal Nehru (1947-1964)\\n- Indira Gandhi (1966-1977, 1980-1984)\\n- Rajiv Gandhi (1984-1989)\\n- Atal Bihari Vajpayee (1998-2004)\\n- Manmohan Singh (2004-2014)\\n\\nMajor Political Parties:\\n- Bharatiya Janata Party (BJP)\\n- Indian National Congress (INC)\\n- Various regional parties\\n\\nStates and Union Territories:\\n- 28 States with their own elected governments\\n- 8 Union Territories administered by central government\\n- Largest state by population: Uttar Pradesh\\n- Largest state by area: Rajasthan\\n- Smallest state: Goa\\n\\nDefense and Security:\\n- World's second-largest military by active personnel\\n- Nuclear weapons state\\n- Indigenous defense production capabilities\\n- Member of UN Security Council (Non-permanent)\\n\\nInternational Relations:\\n- Founding member of Non-Aligned Movement\\n- Member of BRICS, G20, Commonwealth\\n- Strategic partnerships with major world powers\\n- Active role in UN peacekeeping missions\\nIndia, officially the Republic of India, is one of the world's most fascinating and diverse nations. Located in South Asia, it is the world's largest democracy and second-most populous country, home to over 1.4 billion people.\\n\\nHistorical Legacy:\\nIndia boasts a rich history spanning over 5,000 years, from ancient civilizations like the Indus Valley to powerful empires and the struggle for independence. The country has been a cradle of multiple religions, languages, and cultural traditions.\\n\\nGeography and Diversity:\\nFrom the mighty Himalayas in the north to the Indian Ocean in the south, India encompasses various geographical features. The country is divided into 28 states and 8 union territories, each with its unique culture, language, and traditions.\\n\\nCultural Heritage:\\nIndian culture is renowned worldwide for its:\\n- Rich artistic traditions in music, dance, and theatre\\n- Diverse cuisines varying by region\\n- Colorful festivals and celebrations\\n- Ancient architectural marvels\\n- Philosophy and spiritual practices\\n- Classical languages and literature\\n\\nEconomic Growth:\\nIndia has emerged as one of the world's fastest-growing major economies. Key sectors include:\\n- Information Technology\\n- Manufacturing\\n- Agriculture\\n- Services sector\\n- Space technology\\n- Pharmaceutical industry\\n\\nScientific Achievements:\\nIndia has made significant strides in:\\n- Space exploration (ISRO)\\n- Nuclear technology\\n- Information Technology\\n- Biotechnology\\n- Renewable energy\\n\\nChallenges and Opportunities:\\nWhile facing challenges like:\\n- Population growth\\n- Infrastructure development\\n- Environmental concerns\\n- Economic inequality\\n\\nIndia continues to progress with:\\n- Digital transformation\\n- Educational advancement\\n- Technological innovation\\n- Sustainable development initiatives\\n\\nGlobal Influence:\\nIndia's soft power extends through:\\n- Yoga and Ayurveda\\n- Bollywood cinema\\n- Indian cuisine\\n- Literature and arts\\n- Democratic values\\n- Diplomatic relations\\n\\nFuture Prospects:\\nWith its young population, growing economy, and technological advancement, India is positioned to play an increasingly important role in global affairs and economic development.\\n\\nIndia stands as a testament to unity in diversity, where ancient traditions harmoniously blend with modern aspirations, creating a unique and dynamic nation poised for continued growth and influence on the world stage.\""
      ]
     },
     "execution_count": 232,
     "metadata": {},
     "output_type": "execute_result"
    }
   ],
   "source": [
    "docs[0].page_content"
   ]
  },
  {
   "cell_type": "markdown",
   "id": "870a28ab",
   "metadata": {},
   "source": [
    "### Inspecting Document Content\n",
    "It's helpful to look at the content of the first loaded document to verify that your data has been loaded correctly. This step is useful for debugging and understanding what information will be available to your agent."
   ]
  },
  {
   "cell_type": "code",
   "execution_count": 233,
   "id": "9d21ce96",
   "metadata": {},
   "outputs": [],
   "source": [
    "text_splitter = RecursiveCharacterTextSplitter(\n",
    "    chunk_size=1000,\n",
    "    chunk_overlap=200,\n",
    ")"
   ]
  },
  {
   "cell_type": "markdown",
   "id": "be96b8ea",
   "metadata": {},
   "source": [
    "### Splitting Documents into Chunks\n",
    "Large documents are split into smaller, overlapping chunks using `RecursiveCharacterTextSplitter`. This is important because language models and vector databases work best with short, focused pieces of text. Overlapping ensures that important context is not lost at the boundaries between chunks."
   ]
  },
  {
   "cell_type": "code",
   "execution_count": 234,
   "id": "7fe9acea",
   "metadata": {},
   "outputs": [],
   "source": [
    "new_docs=text_splitter.split_documents(documents=docs)"
   ]
  },
  {
   "cell_type": "markdown",
   "id": "759ae1ad",
   "metadata": {},
   "source": [
    "### What is in `new_docs`?\n",
    "After splitting, `new_docs` contains many small document chunks, each with a portion of the original text. This chunking is crucial for efficient and accurate retrieval, as it allows the system to find and return only the most relevant pieces of information in response to a query."
   ]
  },
  {
   "cell_type": "code",
   "execution_count": 235,
   "id": "0af31053",
   "metadata": {},
   "outputs": [
    {
     "data": {
      "text/plain": [
       "[Document(metadata={'source': 'Langgraph\\\\file.txt'}, page_content='India: A Cultural and Economic Powerhouse\\nKey Facts:\\n- Capital: New Delhi\\n- President: Droupadi Murmu (2022-present)\\n- Prime Minister: Narendra Modi (2014-present)\\n- Government Type: Federal Parliamentary Democratic Republic\\n- Independence: August 15, 1947\\n\\nPolitical System:\\n- Parliament consists of Lok Sabha (Lower House) and Rajya Sabha (Upper House)\\n- Multi-party democracy with national and regional parties\\n- Universal adult suffrage with voting age of 18\\n- Independent judiciary with Supreme Court as highest court\\n\\nNotable Prime Ministers:\\n- Jawaharlal Nehru (1947-1964)\\n- Indira Gandhi (1966-1977, 1980-1984)\\n- Rajiv Gandhi (1984-1989)\\n- Atal Bihari Vajpayee (1998-2004)\\n- Manmohan Singh (2004-2014)\\n\\nMajor Political Parties:\\n- Bharatiya Janata Party (BJP)\\n- Indian National Congress (INC)\\n- Various regional parties'),\n",
       " Document(metadata={'source': 'Langgraph\\\\file.txt'}, page_content=\"Major Political Parties:\\n- Bharatiya Janata Party (BJP)\\n- Indian National Congress (INC)\\n- Various regional parties\\n\\nStates and Union Territories:\\n- 28 States with their own elected governments\\n- 8 Union Territories administered by central government\\n- Largest state by population: Uttar Pradesh\\n- Largest state by area: Rajasthan\\n- Smallest state: Goa\\n\\nDefense and Security:\\n- World's second-largest military by active personnel\\n- Nuclear weapons state\\n- Indigenous defense production capabilities\\n- Member of UN Security Council (Non-permanent)\\n\\nInternational Relations:\\n- Founding member of Non-Aligned Movement\\n- Member of BRICS, G20, Commonwealth\\n- Strategic partnerships with major world powers\\n- Active role in UN peacekeeping missions\\nIndia, officially the Republic of India, is one of the world's most fascinating and diverse nations. Located in South Asia, it is the world's largest democracy and second-most populous country, home to over 1.4 billion people.\"),\n",
       " Document(metadata={'source': 'Langgraph\\\\file.txt'}, page_content='Historical Legacy:\\nIndia boasts a rich history spanning over 5,000 years, from ancient civilizations like the Indus Valley to powerful empires and the struggle for independence. The country has been a cradle of multiple religions, languages, and cultural traditions.\\n\\nGeography and Diversity:\\nFrom the mighty Himalayas in the north to the Indian Ocean in the south, India encompasses various geographical features. The country is divided into 28 states and 8 union territories, each with its unique culture, language, and traditions.\\n\\nCultural Heritage:\\nIndian culture is renowned worldwide for its:\\n- Rich artistic traditions in music, dance, and theatre\\n- Diverse cuisines varying by region\\n- Colorful festivals and celebrations\\n- Ancient architectural marvels\\n- Philosophy and spiritual practices\\n- Classical languages and literature'),\n",
       " Document(metadata={'source': 'Langgraph\\\\file.txt'}, page_content=\"Economic Growth:\\nIndia has emerged as one of the world's fastest-growing major economies. Key sectors include:\\n- Information Technology\\n- Manufacturing\\n- Agriculture\\n- Services sector\\n- Space technology\\n- Pharmaceutical industry\\n\\nScientific Achievements:\\nIndia has made significant strides in:\\n- Space exploration (ISRO)\\n- Nuclear technology\\n- Information Technology\\n- Biotechnology\\n- Renewable energy\\n\\nChallenges and Opportunities:\\nWhile facing challenges like:\\n- Population growth\\n- Infrastructure development\\n- Environmental concerns\\n- Economic inequality\\n\\nIndia continues to progress with:\\n- Digital transformation\\n- Educational advancement\\n- Technological innovation\\n- Sustainable development initiatives\\n\\nGlobal Influence:\\nIndia's soft power extends through:\\n- Yoga and Ayurveda\\n- Bollywood cinema\\n- Indian cuisine\\n- Literature and arts\\n- Democratic values\\n- Diplomatic relations\"),\n",
       " Document(metadata={'source': 'Langgraph\\\\file.txt'}, page_content=\"Global Influence:\\nIndia's soft power extends through:\\n- Yoga and Ayurveda\\n- Bollywood cinema\\n- Indian cuisine\\n- Literature and arts\\n- Democratic values\\n- Diplomatic relations\\n\\nFuture Prospects:\\nWith its young population, growing economy, and technological advancement, India is positioned to play an increasingly important role in global affairs and economic development.\\n\\nIndia stands as a testament to unity in diversity, where ancient traditions harmoniously blend with modern aspirations, creating a unique and dynamic nation poised for continued growth and influence on the world stage.\")]"
      ]
     },
     "execution_count": 235,
     "metadata": {},
     "output_type": "execute_result"
    }
   ],
   "source": [
    "new_docs"
   ]
  },
  {
   "cell_type": "code",
   "execution_count": 236,
   "id": "56ab83b7",
   "metadata": {},
   "outputs": [],
   "source": [
    "doc_string = [doc.page_content for doc in new_docs]"
   ]
  },
  {
   "cell_type": "code",
   "execution_count": 237,
   "id": "1d76253e",
   "metadata": {},
   "outputs": [
    {
     "data": {
      "text/plain": [
       "['India: A Cultural and Economic Powerhouse\\nKey Facts:\\n- Capital: New Delhi\\n- President: Droupadi Murmu (2022-present)\\n- Prime Minister: Narendra Modi (2014-present)\\n- Government Type: Federal Parliamentary Democratic Republic\\n- Independence: August 15, 1947\\n\\nPolitical System:\\n- Parliament consists of Lok Sabha (Lower House) and Rajya Sabha (Upper House)\\n- Multi-party democracy with national and regional parties\\n- Universal adult suffrage with voting age of 18\\n- Independent judiciary with Supreme Court as highest court\\n\\nNotable Prime Ministers:\\n- Jawaharlal Nehru (1947-1964)\\n- Indira Gandhi (1966-1977, 1980-1984)\\n- Rajiv Gandhi (1984-1989)\\n- Atal Bihari Vajpayee (1998-2004)\\n- Manmohan Singh (2004-2014)\\n\\nMajor Political Parties:\\n- Bharatiya Janata Party (BJP)\\n- Indian National Congress (INC)\\n- Various regional parties',\n",
       " \"Major Political Parties:\\n- Bharatiya Janata Party (BJP)\\n- Indian National Congress (INC)\\n- Various regional parties\\n\\nStates and Union Territories:\\n- 28 States with their own elected governments\\n- 8 Union Territories administered by central government\\n- Largest state by population: Uttar Pradesh\\n- Largest state by area: Rajasthan\\n- Smallest state: Goa\\n\\nDefense and Security:\\n- World's second-largest military by active personnel\\n- Nuclear weapons state\\n- Indigenous defense production capabilities\\n- Member of UN Security Council (Non-permanent)\\n\\nInternational Relations:\\n- Founding member of Non-Aligned Movement\\n- Member of BRICS, G20, Commonwealth\\n- Strategic partnerships with major world powers\\n- Active role in UN peacekeeping missions\\nIndia, officially the Republic of India, is one of the world's most fascinating and diverse nations. Located in South Asia, it is the world's largest democracy and second-most populous country, home to over 1.4 billion people.\",\n",
       " 'Historical Legacy:\\nIndia boasts a rich history spanning over 5,000 years, from ancient civilizations like the Indus Valley to powerful empires and the struggle for independence. The country has been a cradle of multiple religions, languages, and cultural traditions.\\n\\nGeography and Diversity:\\nFrom the mighty Himalayas in the north to the Indian Ocean in the south, India encompasses various geographical features. The country is divided into 28 states and 8 union territories, each with its unique culture, language, and traditions.\\n\\nCultural Heritage:\\nIndian culture is renowned worldwide for its:\\n- Rich artistic traditions in music, dance, and theatre\\n- Diverse cuisines varying by region\\n- Colorful festivals and celebrations\\n- Ancient architectural marvels\\n- Philosophy and spiritual practices\\n- Classical languages and literature',\n",
       " \"Economic Growth:\\nIndia has emerged as one of the world's fastest-growing major economies. Key sectors include:\\n- Information Technology\\n- Manufacturing\\n- Agriculture\\n- Services sector\\n- Space technology\\n- Pharmaceutical industry\\n\\nScientific Achievements:\\nIndia has made significant strides in:\\n- Space exploration (ISRO)\\n- Nuclear technology\\n- Information Technology\\n- Biotechnology\\n- Renewable energy\\n\\nChallenges and Opportunities:\\nWhile facing challenges like:\\n- Population growth\\n- Infrastructure development\\n- Environmental concerns\\n- Economic inequality\\n\\nIndia continues to progress with:\\n- Digital transformation\\n- Educational advancement\\n- Technological innovation\\n- Sustainable development initiatives\\n\\nGlobal Influence:\\nIndia's soft power extends through:\\n- Yoga and Ayurveda\\n- Bollywood cinema\\n- Indian cuisine\\n- Literature and arts\\n- Democratic values\\n- Diplomatic relations\",\n",
       " \"Global Influence:\\nIndia's soft power extends through:\\n- Yoga and Ayurveda\\n- Bollywood cinema\\n- Indian cuisine\\n- Literature and arts\\n- Democratic values\\n- Diplomatic relations\\n\\nFuture Prospects:\\nWith its young population, growing economy, and technological advancement, India is positioned to play an increasingly important role in global affairs and economic development.\\n\\nIndia stands as a testament to unity in diversity, where ancient traditions harmoniously blend with modern aspirations, creating a unique and dynamic nation poised for continued growth and influence on the world stage.\"]"
      ]
     },
     "execution_count": 237,
     "metadata": {},
     "output_type": "execute_result"
    }
   ],
   "source": [
    "doc_string"
   ]
  },
  {
   "cell_type": "code",
   "execution_count": 238,
   "id": "59bdaeab",
   "metadata": {},
   "outputs": [],
   "source": [
    "index = faiss.IndexFlatL2(3072)\n",
    "new_vector_store=FAISS(\n",
    "    embedding_function=embeddings,\n",
    "    index=index,\n",
    "    docstore=InMemoryDocstore(),\n",
    "    index_to_docstore_id={}\n",
    ")\n"
   ]
  },
  {
   "cell_type": "markdown",
   "id": "1cf02ad2",
   "metadata": {},
   "source": [
    "## 4. Creating a Vector Store with FAISS\n",
    "A vector store is a special database that stores embeddings (vectors) for fast similarity search. FAISS is a high-performance library for this purpose. Here, you create a FAISS index that matches the embedding size (3072), and wrap it with LangChain's FAISS class to manage both the vectors and the original document text. This setup enables efficient retrieval of relevant document chunks based on semantic similarity."
   ]
  },
  {
   "cell_type": "code",
   "execution_count": 239,
   "id": "7d69efd5",
   "metadata": {},
   "outputs": [
    {
     "data": {
      "text/plain": [
       "['23fdf857-ed5b-461f-a555-49e6ddd730bc',\n",
       " '4667094c-5df5-4cee-9fa9-d82403047a07',\n",
       " 'f1b1877b-c8e3-4263-8b6a-e41b29c59be2',\n",
       " 'd06655c7-a9fa-4e2a-b0a3-0d638c1766dd',\n",
       " 'e7e678a5-a1c4-423c-b66c-2197c1a541be']"
      ]
     },
     "execution_count": 239,
     "metadata": {},
     "output_type": "execute_result"
    }
   ],
   "source": [
    "new_vector_store.add_documents(new_docs)"
   ]
  },
  {
   "cell_type": "markdown",
   "id": "279d05ad",
   "metadata": {},
   "source": [
    "### Populating the Vector Store\n",
    "When you call `add_documents`, each document chunk is converted into an embedding (vector) and stored in the FAISS index. The original text is also saved in memory. This step makes your knowledge base searchable by meaning, not just by keywords."
   ]
  },
  {
   "cell_type": "code",
   "execution_count": 240,
   "id": "bf70de8f",
   "metadata": {},
   "outputs": [],
   "source": [
    "retriever = new_vector_store.as_retriever(search_kwargs={\"k\": 1})"
   ]
  },
  {
   "cell_type": "markdown",
   "id": "994bc3ad",
   "metadata": {},
   "source": [
    "### Creating a Retriever\n",
    "A retriever is an abstraction that lets you search the vector store for the most relevant document chunks given a query. Here, you configure it to return only the single best match (`k=1`). The retriever will be used later to fetch context for answering questions about India."
   ]
  },
  {
   "cell_type": "code",
   "execution_count": 241,
   "id": "dab5db5c",
   "metadata": {},
   "outputs": [
    {
     "data": {
      "text/plain": [
       "'India: A Cultural and Economic Powerhouse\\nKey Facts:\\n- Capital: New Delhi\\n- President: Droupadi Murmu (2022-present)\\n- Prime Minister: Narendra Modi (2014-present)\\n- Government Type: Federal Parliamentary Democratic Republic\\n- Independence: August 15, 1947\\n\\nPolitical System:\\n- Parliament consists of Lok Sabha (Lower House) and Rajya Sabha (Upper House)\\n- Multi-party democracy with national and regional parties\\n- Universal adult suffrage with voting age of 18\\n- Independent judiciary with Supreme Court as highest court\\n\\nNotable Prime Ministers:\\n- Jawaharlal Nehru (1947-1964)\\n- Indira Gandhi (1966-1977, 1980-1984)\\n- Rajiv Gandhi (1984-1989)\\n- Atal Bihari Vajpayee (1998-2004)\\n- Manmohan Singh (2004-2014)\\n\\nMajor Political Parties:\\n- Bharatiya Janata Party (BJP)\\n- Indian National Congress (INC)\\n- Various regional parties'"
      ]
     },
     "execution_count": 241,
     "metadata": {},
     "output_type": "execute_result"
    }
   ],
   "source": [
    "retriever.invoke(\"What is the capital of India?\")[0].page_content"
   ]
  },
  {
   "cell_type": "markdown",
   "id": "cb5a9bb4",
   "metadata": {},
   "source": [
    "### Semantic Search in Action\n",
    "By invoking the retriever with a question, you get the most relevant chunk of text from your knowledge base. This is called semantic search, because it finds information based on meaning, not just exact words. This is a key capability for building intelligent question-answering systems."
   ]
  },
  {
   "cell_type": "code",
   "execution_count": 242,
   "id": "b06463ec",
   "metadata": {},
   "outputs": [],
   "source": [
    "from pydantic import BaseModel, Field"
   ]
  },
  {
   "cell_type": "markdown",
   "id": "de46d791",
   "metadata": {},
   "source": [
    "## 5. Structured Output with Pydantic\n",
    "When working with LLMs, it's often useful to get structured outputs (like JSON) instead of free-form text. `pydantic` is a library for defining data models with validation. Here, you use it to specify the exact format you want the LLM to return when classifying questions. This makes downstream processing much more reliable."
   ]
  },
  {
   "cell_type": "code",
   "execution_count": 243,
   "id": "7cab8043",
   "metadata": {},
   "outputs": [],
   "source": [
    "class TopicSelectionParser(BaseModel):\n",
    "    Topic: str = Field(description=\"The topic selected\")\n",
    "    Reasoning: str = Field(description=\"The reasoning behind the topic selection\")"
   ]
  },
  {
   "cell_type": "markdown",
   "id": "3e4af225",
   "metadata": {},
   "source": [
    "### Defining a Structured Output Model\n",
    "The `TopicSelectionParser` class defines the exact fields you want the LLM to return: a `Topic` and a `Reasoning`. This makes it easy to parse and validate the LLM's output, ensuring you always get the information you need in a predictable format."
   ]
  },
  {
   "cell_type": "code",
   "execution_count": 244,
   "id": "606f7069",
   "metadata": {},
   "outputs": [],
   "source": [
    "from langchain.output_parsers import PydanticOutputParser"
   ]
  },
  {
   "cell_type": "markdown",
   "id": "8d0e1183",
   "metadata": {},
   "source": [
    "### Parsing LLM Output with PydanticOutputParser\n",
    "`PydanticOutputParser` is a LangChain tool that takes your Pydantic model and ensures the LLM's output matches the expected structure. It also provides format instructions for the LLM, making it more likely to return valid, parseable data."
   ]
  },
  {
   "cell_type": "code",
   "execution_count": 245,
   "id": "622079cc",
   "metadata": {},
   "outputs": [],
   "source": [
    "parser = PydanticOutputParser(pydantic_object=TopicSelectionParser)"
   ]
  },
  {
   "cell_type": "markdown",
   "id": "61d53ebd",
   "metadata": {},
   "source": [
    "### Format Instructions for the LLM\n",
    "The parser can generate format instructions that tell the LLM exactly how to structure its output. This increases the reliability of downstream parsing and ensures the agent workflow receives data in the expected format."
   ]
  },
  {
   "cell_type": "code",
   "execution_count": 246,
   "id": "70442e3a",
   "metadata": {},
   "outputs": [
    {
     "data": {
      "text/plain": [
       "'The output should be formatted as a JSON instance that conforms to the JSON schema below.\\n\\nAs an example, for the schema {\"properties\": {\"foo\": {\"title\": \"Foo\", \"description\": \"a list of strings\", \"type\": \"array\", \"items\": {\"type\": \"string\"}}}, \"required\": [\"foo\"]}\\nthe object {\"foo\": [\"bar\", \"baz\"]} is a well-formatted instance of the schema. The object {\"properties\": {\"foo\": [\"bar\", \"baz\"]}} is not well-formatted.\\n\\nHere is the output schema:\\n```\\n{\"properties\": {\"Topic\": {\"description\": \"The topic selected\", \"title\": \"Topic\", \"type\": \"string\"}, \"Reasoning\": {\"description\": \"The reasoning behind the topic selection\", \"title\": \"Reasoning\", \"type\": \"string\"}}, \"required\": [\"Topic\", \"Reasoning\"]}\\n```'"
      ]
     },
     "execution_count": 246,
     "metadata": {},
     "output_type": "execute_result"
    }
   ],
   "source": [
    "parser.get_format_instructions()"
   ]
  },
  {
   "cell_type": "code",
   "execution_count": 247,
   "id": "9d013a64",
   "metadata": {},
   "outputs": [],
   "source": [
    "from langchain_core.output_parsers import StrOutputParser\n",
    "from langchain_core.prompts import ChatPromptTemplate, PromptTemplate\n",
    "from langchain_core.runnables import RunnablePassthrough\n",
    "from langchain_core.messages import HumanMessage, AIMessage\n",
    "from typing import TypedDict , Annotated , Sequence\n",
    "from langchain_core.messages import BaseMessage\n",
    "import operator"
   ]
  },
  {
   "cell_type": "markdown",
   "id": "7364cf60",
   "metadata": {},
   "source": [
    "## 6. Defining Agent State and Utility Functions\n",
    "This section imports core LangChain and Python typing tools. The most important concept here is the definition of `AgentState`, which describes the shared memory (state) that is passed between nodes in the LangGraph workflow. This state keeps track of the conversation history and any intermediate results."
   ]
  },
  {
   "cell_type": "code",
   "execution_count": 248,
   "id": "0459f2fa",
   "metadata": {},
   "outputs": [],
   "source": [
    "class AgentState(TypedDict):\n",
    "    messages : Annotated[Sequence[BaseMessage], operator.add]"
   ]
  },
  {
   "cell_type": "markdown",
   "id": "6724d505",
   "metadata": {},
   "source": [
    "### Understanding AgentState and Message History\n",
    "The `AgentState` class defines the structure of the state object passed between nodes. Here, `messages` is a list that accumulates all messages (user queries, classifications, answers) as the workflow progresses. Using `operator.add` ensures that new messages are appended, preserving the full conversation history for context-aware processing."
   ]
  },
  {
   "cell_type": "code",
   "execution_count": 249,
   "id": "d313bdf2",
   "metadata": {},
   "outputs": [],
   "source": [
    "def format_docs(docs):\n",
    "    return \"\\n\\n\".join(doc.page_content for doc in docs)"
   ]
  },
  {
   "cell_type": "markdown",
   "id": "6acfde26",
   "metadata": {},
   "source": [
    "### Utility: Formatting Retrieved Documents\n",
    "The `format_docs` function takes a list of document objects and joins their content into a single string. This is useful for preparing context to be fed into the language model during the retrieval-augmented generation (RAG) process."
   ]
  },
  {
   "cell_type": "code",
   "execution_count": 250,
   "id": "95067d31",
   "metadata": {},
   "outputs": [],
   "source": [
    "# supervisor function\n",
    "def function_1(state: AgentState):\n",
    "    question=state['messages'][-1]\n",
    "    print(\"Question\",question)\n",
    "    template=\"\"\"\n",
    "    Your task is to classify the given user query into one of the following categories: [India,Not Related]. \n",
    "    Only respond with the category name and nothing else.\n",
    "\n",
    "    User query: {question}\n",
    "    {format_instructions}\n",
    "    \n",
    "    \"\"\"\n",
    "    prompt = PromptTemplate(\n",
    "        template=template,\n",
    "        input_variables=[\"question\"],\n",
    "        partial_variables={\"format_instructions\": parser.get_format_instructions()}\n",
    "    )\n",
    "    # model = ChatGoogleGenerativeAI(model=\"gemini-1.5-flash\")\n",
    "    model = ChatOpenAI()\n",
    "    chain = prompt | model | parser\n",
    "    response = chain.invoke({\"question\":question})\n",
    "    \n",
    "    print(\"Parsed response:\", response)\n",
    "    \n",
    "    return {\"messages\": [response.Topic]}"
   ]
  },
  {
   "cell_type": "markdown",
   "id": "02d4c82f",
   "metadata": {},
   "source": [
    "## 7. Supervisor Node: Classifying the User Query\n",
    "The `function_1` (Supervisor) node is the first step in the workflow. It examines the latest message (the user's question) and uses an LLM to classify it as either 'India' or 'Not Related'.\n",
    "- The prompt template instructs the LLM to return only the category name, using format instructions for structured output.\n",
    "- The result is parsed and appended to the message history in the state, which will be used by the router to decide the next step."
   ]
  },
  {
   "cell_type": "code",
   "execution_count": 251,
   "id": "d37289f5",
   "metadata": {},
   "outputs": [
    {
     "name": "stdout",
     "output_type": "stream",
     "text": [
      "Question Who is mrbeast?\n",
      "Parsed response: Topic='Not Related' Reasoning='The user query does not pertain to the country of India.'\n"
     ]
    },
    {
     "data": {
      "text/plain": [
       "{'messages': ['Not Related']}"
      ]
     },
     "execution_count": 251,
     "metadata": {},
     "output_type": "execute_result"
    }
   ],
   "source": [
    "state={'messages': [\"Who is mrbeast?\"]}\n",
    "function_1(state)"
   ]
  },
  {
   "cell_type": "code",
   "execution_count": 252,
   "id": "f3992936",
   "metadata": {},
   "outputs": [
    {
     "name": "stdout",
     "output_type": "stream",
     "text": [
      "Question What is gdp of India?\n",
      "Parsed response: Topic='India' Reasoning='The user query specifically mentions India'\n"
     ]
    },
    {
     "data": {
      "text/plain": [
       "{'messages': ['India']}"
      ]
     },
     "execution_count": 252,
     "metadata": {},
     "output_type": "execute_result"
    }
   ],
   "source": [
    "state={'messages': [\"What is gdp of India?\"]}\n",
    "function_1(state)"
   ]
  },
  {
   "cell_type": "code",
   "execution_count": 270,
   "id": "89576ded",
   "metadata": {},
   "outputs": [],
   "source": [
    "# Rag function\n",
    "def function_2(state: AgentState):\n",
    "    print(\"-> Rag called ->\")\n",
    "\n",
    "    question=state['messages'][0]\n",
    "\n",
    "    prompt=PromptTemplate(\n",
    "        template=\"\"\"You are an assistant for question-answering tasks. Use the following pieces of retrieved context to answer the question. If you don't know the answer, just say that you don't know. Use three sentences maximum and keep the answer concise.\\nQuestion: {question} \\nContext: {context} \\nAnswer:\"\"\",\n",
    "        \n",
    "        input_variables=['context', 'question']\n",
    "    )\n",
    "    \n",
    "    # model = ChatGoogleGenerativeAI(model=\"gemini-1.5-flash\")\n",
    "    model = ChatOpenAI(model=\"gpt-4o\")\n",
    "    rag_chain = (\n",
    "        {\"context\": retriever | format_docs, \"question\": RunnablePassthrough()}\n",
    "        | prompt\n",
    "        | model\n",
    "        | StrOutputParser()\n",
    "    )\n",
    "    result = rag_chain.invoke(question)\n",
    "    return  {\"messages\": [result]}\n"
   ]
  },
  {
   "cell_type": "markdown",
   "id": "94048014",
   "metadata": {},
   "source": [
    "## 8. RAG Node: Retrieval-Augmented Generation\n",
    "The `function_2` node is responsible for answering questions classified as 'India'. It works by:\n",
    "- Taking the original user question from the state.\n",
    "- Using the retriever to find the most relevant chunk(s) from your local knowledge base.\n",
    "- Feeding both the question and the retrieved context into an LLM, which generates a concise answer based only on the provided context.\n",
    "This approach ensures that answers are grounded in your specific data, not just the LLM's general knowledge."
   ]
  },
  {
   "cell_type": "code",
   "execution_count": 271,
   "id": "b0709bbc",
   "metadata": {},
   "outputs": [],
   "source": [
    "# LLm function\n",
    "def function_3(state: AgentState):\n",
    "    print(\"-> LLM Call ->\")\n",
    "    question = state[\"messages\"][0]\n",
    "    \n",
    "    # Normal LLM call\n",
    "    complete_query = \"Anwer the follow question with you knowledge of the real world. Following is the user question: \" + question\n",
    "    # model = ChatGoogleGenerativeAI(model=\"gemini-1.5-flash\")\n",
    "    model = ChatOpenAI(model=\"gpt-4o\")\n",
    "    response = model.invoke(complete_query)\n",
    "    return {\"messages\": [response.content]}"
   ]
  },
  {
   "cell_type": "markdown",
   "id": "c2e9b6a3",
   "metadata": {},
   "source": [
    "## 9. LLM Node: General-Purpose Answering\n",
    "The `function_3` node is used for questions not related to India. It simply takes the original user question and passes it to a general-purpose LLM (like GPT-4o or Gemini). The answer is based on the model's broad, pre-trained knowledge, not your local documents."
   ]
  },
  {
   "cell_type": "code",
   "execution_count": 273,
   "id": "05cfd1ae",
   "metadata": {},
   "outputs": [],
   "source": [
    "def router(state:AgentState):\n",
    "    print(\"-> Router called ->\")\n",
    "\n",
    "    last_message=state['messages'][-1]\n",
    "    print(\"Last message:\", last_message)\n",
    "    if \"india\" in last_message.lower():\n",
    "        return \"Rag\"\n",
    "    else:\n",
    "        return \"llm-call\""
   ]
  },
  {
   "cell_type": "markdown",
   "id": "efb4ab0f",
   "metadata": {},
   "source": [
    "## 10. Router: Decision Logic for Workflow\n",
    "The `router` function examines the last message in the state (the classification result from the Supervisor). Based on whether the topic is 'India' or not, it decides which node to run next: the RAG node for India-related questions, or the LLM node for everything else. This conditional routing is what makes the agent intelligent and adaptive."
   ]
  },
  {
   "cell_type": "code",
   "execution_count": 256,
   "id": "58caf0fb",
   "metadata": {},
   "outputs": [],
   "source": [
    "from langgraph.graph import StateGraph,END"
   ]
  },
  {
   "cell_type": "markdown",
   "id": "097d2dc3",
   "metadata": {},
   "source": [
    "## 11. Building the Workflow Graph\n",
    "LangGraph lets you define a workflow as a directed graph, where each node is a function (like Supervisor, RAG, or LLM) and edges define the flow of execution. `StateGraph` is the main class for building such workflows, and `END` marks the termination point."
   ]
  },
  {
   "cell_type": "code",
   "execution_count": 257,
   "id": "f28fb6a4",
   "metadata": {},
   "outputs": [],
   "source": [
    "workflow = StateGraph(AgentState) "
   ]
  },
  {
   "cell_type": "markdown",
   "id": "0fac222a",
   "metadata": {},
   "source": [
    "### Adding Nodes and Edges to the Workflow\n",
    "You add each function (Supervisor, RAG, LLM) as a node in the workflow graph. Then, you define the entry point (where execution starts) and add edges to control the flow based on the router's decision. This modular design makes it easy to extend or modify the agent's behavior."
   ]
  },
  {
   "cell_type": "code",
   "execution_count": 258,
   "id": "9de13649",
   "metadata": {},
   "outputs": [
    {
     "data": {
      "text/plain": [
       "<langgraph.graph.state.StateGraph at 0x229315f56e0>"
      ]
     },
     "execution_count": 258,
     "metadata": {},
     "output_type": "execute_result"
    }
   ],
   "source": [
    "workflow.add_node(\"Supervisor\",function_1) "
   ]
  },
  {
   "cell_type": "code",
   "execution_count": 259,
   "id": "77291426",
   "metadata": {},
   "outputs": [
    {
     "data": {
      "text/plain": [
       "<langgraph.graph.state.StateGraph at 0x229315f56e0>"
      ]
     },
     "execution_count": 259,
     "metadata": {},
     "output_type": "execute_result"
    }
   ],
   "source": [
    "workflow.add_node(\"Rag\",function_2)"
   ]
  },
  {
   "cell_type": "code",
   "execution_count": 260,
   "id": "a7ee170f",
   "metadata": {},
   "outputs": [
    {
     "data": {
      "text/plain": [
       "<langgraph.graph.state.StateGraph at 0x229315f56e0>"
      ]
     },
     "execution_count": 260,
     "metadata": {},
     "output_type": "execute_result"
    }
   ],
   "source": [
    "workflow.add_node(\"llm-call\",function_3)"
   ]
  },
  {
   "cell_type": "code",
   "execution_count": 261,
   "id": "a4a1b84c",
   "metadata": {},
   "outputs": [
    {
     "data": {
      "text/plain": [
       "<langgraph.graph.state.StateGraph at 0x229315f56e0>"
      ]
     },
     "execution_count": 261,
     "metadata": {},
     "output_type": "execute_result"
    }
   ],
   "source": [
    "workflow.set_entry_point(\"Supervisor\")"
   ]
  },
  {
   "cell_type": "code",
   "execution_count": 262,
   "id": "773dc214",
   "metadata": {},
   "outputs": [
    {
     "data": {
      "text/plain": [
       "<langgraph.graph.state.StateGraph at 0x229315f56e0>"
      ]
     },
     "execution_count": 262,
     "metadata": {},
     "output_type": "execute_result"
    }
   ],
   "source": [
    "workflow.add_conditional_edges(\n",
    "    \"Supervisor\",\n",
    "    router,\n",
    "    {\n",
    "        \"Rag\": \"Rag\",\n",
    "        \"llm-call\": \"llm-call\",\n",
    "    }\n",
    ")"
   ]
  },
  {
   "cell_type": "code",
   "execution_count": 263,
   "id": "3849b26e",
   "metadata": {},
   "outputs": [
    {
     "data": {
      "text/plain": [
       "<langgraph.graph.state.StateGraph at 0x229315f56e0>"
      ]
     },
     "execution_count": 263,
     "metadata": {},
     "output_type": "execute_result"
    }
   ],
   "source": [
    "workflow.add_edge('Rag',END)"
   ]
  },
  {
   "cell_type": "code",
   "execution_count": 264,
   "id": "ef3dc011",
   "metadata": {},
   "outputs": [
    {
     "data": {
      "text/plain": [
       "<langgraph.graph.state.StateGraph at 0x229315f56e0>"
      ]
     },
     "execution_count": 264,
     "metadata": {},
     "output_type": "execute_result"
    }
   ],
   "source": [
    "workflow.add_edge('llm-call',END)"
   ]
  },
  {
   "cell_type": "code",
   "execution_count": 265,
   "id": "6de42e1c",
   "metadata": {},
   "outputs": [],
   "source": [
    "app=workflow.compile()"
   ]
  },
  {
   "cell_type": "markdown",
   "id": "716a3acb",
   "metadata": {},
   "source": [
    "## 12. Compiling and Running the Agent\n",
    "Compiling the workflow turns your graph definition into an executable application. The resulting `app` object can be invoked with a user question, and it will automatically route the query, retrieve context, and generate an answer according to the logic you defined."
   ]
  },
  {
   "cell_type": "code",
   "execution_count": 266,
   "id": "604b48af",
   "metadata": {},
   "outputs": [
    {
     "data": {
      "image/png": "[encoded data removed]",
      "text/plain": [
       "<langgraph.graph.state.CompiledStateGraph object at 0x00000229315E1F90>"
      ]
     },
     "execution_count": 266,
     "metadata": {},
     "output_type": "execute_result"
    }
   ],
   "source": [
    "app"
   ]
  },
  {
   "cell_type": "code",
   "execution_count": 267,
   "id": "c3bdaebd",
   "metadata": {},
   "outputs": [
    {
     "name": "stdout",
     "output_type": "stream",
     "text": [
      "Question Who is president of India?\n",
      "Parsed response: Topic='India' Reasoning='The user query specifically asks about the president of India.'\n",
      "-> Router called ->\n",
      "Last message: India\n",
      "-> Rag called ->\n"
     ]
    },
    {
     "data": {
      "text/plain": [
       "{'messages': ['Who is president of India?',\n",
       "  'India',\n",
       "  'The president of India is Droupadi Murmu (2022-present).']}"
      ]
     },
     "execution_count": 267,
     "metadata": {},
     "output_type": "execute_result"
    }
   ],
   "source": [
    "app.invoke({\"messages\": [\"Who is president of India?\"]})"
   ]
  },
  {
   "cell_type": "markdown",
   "id": "5daf008b",
   "metadata": {},
   "source": [
    "### Example: Asking About the President of India\n",
    "When you invoke the app with a question like \"Who is president of India?\":\n",
    "1. The Supervisor classifies the question as 'India'.\n",
    "2. The router sends the query to the RAG node, which retrieves relevant context from your local documents and generates an answer.\n",
    "3. The final answer is returned in the state."
   ]
  },
  {
   "cell_type": "code",
   "execution_count": 268,
   "id": "755539b9",
   "metadata": {},
   "outputs": [
    {
     "name": "stdout",
     "output_type": "stream",
     "text": [
      "Question What is the capital of australia?\n",
      "Parsed response: Topic='Not Related' Reasoning='The user query is not related to India.'\n",
      "-> Router called ->\n",
      "Last message: Not Related\n",
      "-> LLM Call ->\n"
     ]
    },
    {
     "data": {
      "text/plain": [
       "{'messages': ['What is the capital of australia?',\n",
       "  'Not Related',\n",
       "  'The capital of Australia is Canberra.']}"
      ]
     },
     "execution_count": 268,
     "metadata": {},
     "output_type": "execute_result"
    }
   ],
   "source": [
    "app.invoke({\"messages\": [\"What is the capital of australia?\"]})"
   ]
  },
  {
   "cell_type": "markdown",
   "id": "11d66187",
   "metadata": {},
   "source": [
    "### Example: Asking About Australia\n",
    "When you ask about a topic not related to India (e.g., \"What is the capital of Australia?\"), the Supervisor classifies it as 'Not Related', and the router sends the query to the LLM node. The answer is generated using the model's general knowledge, not your local documents."
   ]
  },
  {
   "cell_type": "code",
   "execution_count": 272,
   "id": "0cfebae7",
   "metadata": {},
   "outputs": [
    {
     "name": "stdout",
     "output_type": "stream",
     "text": [
      "Question Who is the president of usa ?\n",
      "Parsed response: Topic='Not Related' Reasoning='The user query is not related to India'\n",
      "-> Router called ->\n",
      "Last message: Not Related\n",
      "-> LLM Call ->\n"
     ]
    },
    {
     "data": {
      "text/plain": [
       "'As of June 2024, the President of the United States is Joe Biden.'"
      ]
     },
     "execution_count": 272,
     "metadata": {},
     "output_type": "execute_result"
    }
   ],
   "source": [
    "app.invoke({\"messages\":[\"Who is the president of usa ?\"]})[\"messages\"][-1]"
   ]
  },
  {
   "cell_type": "markdown",
   "id": "3bc8002d",
   "metadata": {},
   "source": [
    "## Summary and Next Steps\n",
    "This notebook demonstrates how to combine LangChain and LangGraph to build a smart, multi-step agent that can classify questions, retrieve relevant context, and generate answers using both local and general knowledge. You can extend this workflow by adding more categories, more complex routing logic, or integrating additional data sources."
   ]
  }
 ],
 "metadata": {
  "kernelspec": {
   "display_name": "Python 3",
   "language": "python",
   "name": "python3"
  },
  "language_info": {
   "codemirror_mode": {
    "name": "ipython",
    "version": 3
   },
   "file_extension": ".py",
   "mimetype": "text/x-python",
   "name": "python",
   "nbconvert_exporter": "python",
   "pygments_lexer": "ipython3",
   "version": "3.13.0"
  }
 },
 "nbformat": 4,
 "nbformat_minor": 5
}
